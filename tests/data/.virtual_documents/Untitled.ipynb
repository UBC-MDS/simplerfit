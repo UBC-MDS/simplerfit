library(tidyverse)
adult <- read_csv("adult.csv")


# adult


data_long <-  adult|> 
    select_if(is.numeric) |>
    pivot_longer(everything())



data_long


# melt_df


plot <- ggplot2::ggplot(data_long, ggplot2::aes(x = value, color="target"))+
      ggplot2::facet_wrap(~name, scales = "free_x") +
      ggplot2::geom_density() 


plot


plot_distributions <- function(df, bins = 40, hist_cols=NULL, density=FALSE){
  if (!is.null(hist_cols)){
      
    data_long <-  df|> 
    select_if(is.numeric) |>
    pivot_longer(hist_cols)
  }
  else{
    data_long <-  df|> 
    select_if(is.numeric) |>
    pivot_longer(everything())
  }
    

  if(!density){
  plot_hist <- ggplot2::ggplot(data_long, ggplot2::aes(x = value))+
    ggplot2::facet_wrap(~name, scales = "free_x") +
    ggplot2::geom_histogram(bins=bins) }
    else{
    plot_hist <- ggplot2::ggplot(data_long, ggplot2::aes(x = value))+
    ggplot2::facet_wrap(~name, scales = "free_x") +
    ggplot2::geom_density(fill="green")
    
    }
plot_hist
}




x=plot_distributions(data, density=TRUE)


x


# GGally::ggcorr(data)
# GGally::ggcorr(data, method = c("everything", "pearson")) 


GGally::ggcorr(data,low = "steelblue", mid = "white", high = "darkred", label=TRUE,method = c("everything", "pearson") )


plot_corr <- function(data, corr='pearson', pair_cols=NULL){
  if(!is.null(pair_cols)){
    
    data <- data |> 
            select(pair_cols)
  }
  corr_plot <- GGally::ggcorr(data,low = "steelblue", mid = "white", high = "darkred", label=TRUE,method = c("everything", corr) )
  corr_plot

}


plot_corr(data)


library(tidyverse)
spotify <- read_csv("SpotifyFeatures.csv")


library(GGally)

plot_splom <- function(data, cols=NULL){
  if(!is.null(cols)){

  data <- data |>
        dplyr::select(cols)
  }

  splom_plot <- GGally::ggpairs(data |> select_if(is.numeric), progress = FALSE)
  splom_plot
}



plot_splom(spotify, cols=c("acousticness", "loudness", "danceability"))



